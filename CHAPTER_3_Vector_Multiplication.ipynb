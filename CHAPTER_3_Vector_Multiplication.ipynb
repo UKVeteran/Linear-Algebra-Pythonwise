{
  "nbformat": 4,
  "nbformat_minor": 0,
  "metadata": {
    "colab": {
      "provenance": []
    },
    "kernelspec": {
      "name": "python3",
      "display_name": "Python 3"
    },
    "language_info": {
      "name": "python"
    }
  },
  "cells": [
    {
      "cell_type": "code",
      "execution_count": 1,
      "metadata": {
        "id": "D8XG9PNrsgJI"
      },
      "outputs": [],
      "source": [
        "import numpy as np"
      ]
    },
    {
      "cell_type": "code",
      "source": [
        "v1 = np.array([2,5,4,7])\n",
        "v2 = np.array([4,1,0,2])\n",
        "\n",
        "# dot product between them\n",
        "dp = np.dot(v1,v2)"
      ],
      "metadata": {
        "id": "E3ZYEBABsjbN"
      },
      "execution_count": 2,
      "outputs": []
    },
    {
      "cell_type": "code",
      "source": [
        "# scalars\n",
        "l1 = 1\n",
        "l2 = 2\n",
        "l3 = -3\n",
        "\n",
        "# vectors\n",
        "v1 = np.array([4,5,1])\n",
        "v2 = np.array([-4,0,-4])\n",
        "v3 = np.array([1,3,2])\n",
        "\n",
        "# linear weighted combinations\n",
        "l1*v1 + l2*v2 + l3*v3"
      ],
      "metadata": {
        "colab": {
          "base_uri": "https://localhost:8080/"
        },
        "id": "MXxp5l2PskQ2",
        "outputId": "67485c42-229c-457e-908d-8720ea786872"
      },
      "execution_count": 3,
      "outputs": [
        {
          "output_type": "execute_result",
          "data": {
            "text/plain": [
              "array([ -7,  -4, -13])"
            ]
          },
          "metadata": {},
          "execution_count": 3
        }
      ]
    },
    {
      "cell_type": "code",
      "source": [
        "# two vectors\n",
        "v1 = np.array([2,5,4,7])\n",
        "v2 = np.array([4,1,0,2])\n",
        "\n",
        "# outer product\n",
        "op = np.outer(v1,v2)"
      ],
      "metadata": {
        "id": "q5pZh6YUsljo"
      },
      "execution_count": 4,
      "outputs": []
    },
    {
      "cell_type": "code",
      "source": [
        "# two vectors\n",
        "v1 = np.array([2,5,4,7])\n",
        "v2 = np.array([4,1,0,2])\n",
        "\n",
        "# Hadamard\n",
        "v3 = v1 * v2"
      ],
      "metadata": {
        "id": "Zro-XN1Dsm_6"
      },
      "execution_count": 5,
      "outputs": []
    },
    {
      "cell_type": "code",
      "source": [
        "# a friendly vector\n",
        "v = np.array([2,5,4,7])\n",
        "\n",
        "# its norm\n",
        "vMag = np.linalg.norm(v)\n",
        "\n",
        "# the unit vector\n",
        "v_unit = v / vMag"
      ],
      "metadata": {
        "id": "WCJyHTSJsn93"
      },
      "execution_count": 6,
      "outputs": []
    },
    {
      "cell_type": "code",
      "source": [
        "# some vectors\n",
        "v1 = np.array([1,2,3,4,5])\n",
        "v2 = np.array([2,3,4,5,6])\n",
        "v3 = np.array([3,4,5,6,7])\n",
        "\n",
        "# the weightings\n",
        "w = [-1,3,-2]\n",
        "\n",
        "# their weighted combo\n",
        "result = v1*w[0] + v2*w[1] + v3*w[2]"
      ],
      "metadata": {
        "id": "ZdPNFGk1sozf"
      },
      "execution_count": 7,
      "outputs": []
    },
    {
      "cell_type": "code",
      "source": [
        "# a vector (technically, type list)\n",
        "v = [ 7, 4, -5, 8, 3 ]\n",
        "\n",
        "# the ones vector\n",
        "o = np.ones(len(v))\n",
        "\n",
        "# average via dot product\n",
        "ave = np.dot(v,o) / len(v)"
      ],
      "metadata": {
        "id": "3p90EV__sqRQ"
      },
      "execution_count": 8,
      "outputs": []
    },
    {
      "cell_type": "code",
      "source": [
        "# list\n",
        "v = [ 7, 4, -5, 8, 3 ]\n",
        "\n",
        "# random weightings\n",
        "w = np.random.rand(len(v))\n",
        "\n",
        "# weighted dot product\n",
        "wAve = np.dot(v, w/sum(w))"
      ],
      "metadata": {
        "id": "ZPakTtXMsrSh"
      },
      "execution_count": 9,
      "outputs": []
    }
  ]
}