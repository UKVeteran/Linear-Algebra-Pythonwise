{
  "nbformat": 4,
  "nbformat_minor": 0,
  "metadata": {
    "colab": {
      "provenance": []
    },
    "kernelspec": {
      "name": "python3",
      "display_name": "Python 3"
    },
    "language_info": {
      "name": "python"
    }
  },
  "cells": [
    {
      "cell_type": "code",
      "execution_count": 2,
      "metadata": {
        "id": "aw36o8D6v9YH"
      },
      "outputs": [],
      "source": [
        "import numpy as np\n",
        "import sympy as sym\n",
        "import matplotlib.pyplot as plt"
      ]
    },
    {
      "cell_type": "code",
      "source": [
        "A = np.random.randn(3,3)\n",
        "\n",
        "# its inverse\n",
        "Ai = np.linalg.inv(A)\n",
        "\n",
        "# should be identity\n",
        "A@Ai"
      ],
      "metadata": {
        "colab": {
          "base_uri": "https://localhost:8080/"
        },
        "id": "xJhdQOPowAtk",
        "outputId": "118e84d7-ea7c-4026-9ad8-518acbc7efef"
      },
      "execution_count": 3,
      "outputs": [
        {
          "output_type": "execute_result",
          "data": {
            "text/plain": [
              "array([[ 1.00000000e+00,  7.46491641e-17,  1.25112603e-16],\n",
              "       [-3.09147862e-16,  1.00000000e+00,  3.35156421e-16],\n",
              "       [ 2.18332243e-19,  4.06125613e-17,  1.00000000e+00]])"
            ]
          },
          "metadata": {},
          "execution_count": 3
        }
      ]
    },
    {
      "cell_type": "code",
      "source": [
        "# matrix\n",
        "A  = np.random.randn(3,3)\n",
        "\n",
        "# concatenated by identity\n",
        "Acat = np.concatenate((A,np.eye(3,3)),axis=1)\n",
        "\n",
        "# RREF (via sympy)\n",
        "Ar = sym.Matrix(Acat).rref()[0] # RREF\n",
        "\n",
        "# keep inverse\n",
        "Ar = Ar[:,3:]\n",
        "\n",
        "# numpy's inv\n",
        "Ai = np.linalg.inv(A)\n",
        "\n",
        "# compare\n",
        "Ar-Ai"
      ],
      "metadata": {
        "colab": {
          "base_uri": "https://localhost:8080/",
          "height": 78
        },
        "id": "L8OE8BO1wESm",
        "outputId": "36693df3-8af8-4248-9b05-4192ef19cf4c"
      },
      "execution_count": 4,
      "outputs": [
        {
          "output_type": "execute_result",
          "data": {
            "text/plain": [
              "Matrix([\n",
              "[-5.55111512312578e-17,                     0,  2.22044604925031e-16],\n",
              "[                    0,  2.22044604925031e-16,  2.22044604925031e-16],\n",
              "[                    0, -2.22044604925031e-16, -2.22044604925031e-16]])"
            ],
            "text/latex": "$\\displaystyle \\left[\\begin{matrix}-5.55111512312578 \\cdot 10^{-17} & 0 & 2.22044604925031 \\cdot 10^{-16}\\\\0 & 2.22044604925031 \\cdot 10^{-16} & 2.22044604925031 \\cdot 10^{-16}\\\\0 & -2.22044604925031 \\cdot 10^{-16} & -2.22044604925031 \\cdot 10^{-16}\\end{matrix}\\right]$"
          },
          "metadata": {},
          "execution_count": 4
        }
      ]
    },
    {
      "cell_type": "code",
      "source": [
        "# tall matrix\n",
        "A = np.random.randn(5,3)\n",
        "\n",
        "# left inverse\n",
        "Al = np.linalg.inv(A.T@A)@A.T\n",
        "\n",
        "# check for I\n",
        "Al@A"
      ],
      "metadata": {
        "colab": {
          "base_uri": "https://localhost:8080/"
        },
        "id": "oNo9_Q_7wFU4",
        "outputId": "c202aa10-147e-444c-e1c5-73023da06d52"
      },
      "execution_count": 5,
      "outputs": [
        {
          "output_type": "execute_result",
          "data": {
            "text/plain": [
              "array([[ 1.00000000e+00, -7.39606337e-17, -1.85811350e-17],\n",
              "       [-7.83889955e-17,  1.00000000e+00,  6.71961929e-18],\n",
              "       [-1.55457911e-16, -2.71387435e-17,  1.00000000e+00]])"
            ]
          },
          "metadata": {},
          "execution_count": 5
        }
      ]
    },
    {
      "cell_type": "code",
      "source": [
        "# reduced-rank matrix\n",
        "A = np.random.randn(3,3)\n",
        "A[1,:] = A[0,:]\n",
        "\n",
        "# pseudoinverse\n",
        "Api = np.linalg.pinv(A)\n",
        "\n",
        "# identity matrix?\n",
        "Api@A"
      ],
      "metadata": {
        "colab": {
          "base_uri": "https://localhost:8080/"
        },
        "id": "WMlygYuKwGKJ",
        "outputId": "d5811cf9-2e9c-422b-b23b-d3888d4de460"
      },
      "execution_count": 6,
      "outputs": [
        {
          "output_type": "execute_result",
          "data": {
            "text/plain": [
              "array([[ 0.65287739, -0.09998992, -0.46543584],\n",
              "       [-0.09998992,  0.97119755, -0.13407047],\n",
              "       [-0.46543584, -0.13407047,  0.37592507]])"
            ]
          },
          "metadata": {},
          "execution_count": 6
        }
      ]
    },
    {
      "cell_type": "code",
      "source": [
        "# create matrix\n",
        "m = 4\n",
        "A = np.random.randn(m,m)\n",
        "\n",
        "# initialize\n",
        "M = np.zeros((m,m))\n",
        "G = np.zeros((m,m))\n",
        "\n",
        "# compute minors matrix\n",
        "for i in range(m):\n",
        "    for j in range(m):\n",
        "\n",
        "        # select rows and cols\n",
        "        rows = [True]*m\n",
        "        rows[i] = False\n",
        "\n",
        "        cols = [True]*m\n",
        "        cols[j] = False\n",
        "\n",
        "        M[i,j]=np.linalg.det(A[rows,:][:,cols])\n",
        "\n",
        "        # compute G\n",
        "        G[i,j] = (-1)**(i+j)\n",
        "\n",
        "\n",
        "# compute C\n",
        "C = M * G\n",
        "\n",
        "# compute A\n",
        "Ainv = C.T / np.linalg.det(A)\n",
        "\n",
        "# 'regular' inverse function\n",
        "AinvI = np.linalg.inv(A)\n",
        "\n",
        "# compare against inv()\n",
        "AinvI-Ainv"
      ],
      "metadata": {
        "colab": {
          "base_uri": "https://localhost:8080/"
        },
        "id": "fYeBu8TkwHA8",
        "outputId": "0ff8354b-ba96-49dc-90ea-687761a13451"
      },
      "execution_count": 7,
      "outputs": [
        {
          "output_type": "execute_result",
          "data": {
            "text/plain": [
              "array([[-2.22044605e-16,  2.22044605e-16,  2.22044605e-16,\n",
              "         0.00000000e+00],\n",
              "       [ 8.32667268e-17,  0.00000000e+00,  0.00000000e+00,\n",
              "         0.00000000e+00],\n",
              "       [ 0.00000000e+00,  1.11022302e-16,  5.55111512e-17,\n",
              "         0.00000000e+00],\n",
              "       [-5.55111512e-17,  1.11022302e-16,  0.00000000e+00,\n",
              "         0.00000000e+00]])"
            ]
          },
          "metadata": {},
          "execution_count": 7
        }
      ]
    },
    {
      "cell_type": "code",
      "source": [
        "# square matrix\n",
        "A   = np.random.randn(5,5)\n",
        "Ai  = np.linalg.inv(A)\n",
        "Api = np.linalg.pinv(A)\n",
        "# test equivalence\n",
        "print(Ai - Api)\n",
        "\n",
        "\n",
        "\n",
        "# tall matrix\n",
        "T   = np.random.randn(5,3)\n",
        "Tl  = np.linalg.inv(T.T@T)@T.T # left inv\n",
        "Tpi = np.linalg.pinv(T) # pinv\n",
        "# test equivalence\n",
        "print(Tl - Tpi)"
      ],
      "metadata": {
        "colab": {
          "base_uri": "https://localhost:8080/"
        },
        "id": "1mUKQY51wIsj",
        "outputId": "64a771b1-4e45-4b84-f028-d64fff13a166"
      },
      "execution_count": 8,
      "outputs": [
        {
          "output_type": "stream",
          "name": "stdout",
          "text": [
            "[[-6.66133815e-16 -1.11022302e-15  5.55111512e-17 -4.44089210e-16\n",
            "   5.55111512e-16]\n",
            " [-2.22044605e-16 -2.22044605e-16  5.55111512e-17  1.11022302e-16\n",
            "   5.55111512e-17]\n",
            " [ 5.55111512e-16  6.66133815e-16  2.77555756e-17 -1.11022302e-15\n",
            "  -5.55111512e-16]\n",
            " [-3.81639165e-16 -4.44089210e-16  2.77555756e-17  0.00000000e+00\n",
            "   3.88578059e-16]\n",
            " [ 3.33066907e-16  5.27355937e-16  1.38777878e-17 -3.33066907e-16\n",
            "  -1.66533454e-16]]\n",
            "[[-1.11022302e-16 -6.93889390e-17  1.11022302e-16 -9.71445147e-17\n",
            "   7.28583860e-17]\n",
            " [-1.11022302e-16 -5.55111512e-17  5.55111512e-17 -2.22044605e-16\n",
            "   1.66533454e-16]\n",
            " [-1.66533454e-16 -2.77555756e-17 -1.11022302e-16  1.11022302e-16\n",
            "  -5.55111512e-17]]\n"
          ]
        }
      ]
    }
  ]
}