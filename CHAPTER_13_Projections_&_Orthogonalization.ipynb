{
  "nbformat": 4,
  "nbformat_minor": 0,
  "metadata": {
    "colab": {
      "provenance": []
    },
    "kernelspec": {
      "name": "python3",
      "display_name": "Python 3"
    },
    "language_info": {
      "name": "python"
    }
  },
  "cells": [
    {
      "cell_type": "code",
      "execution_count": 4,
      "metadata": {
        "id": "A0aogzWJwX3b"
      },
      "outputs": [],
      "source": [
        "import numpy as np"
      ]
    },
    {
      "cell_type": "code",
      "source": [
        "# matrix and vector\n",
        "A = [[1,2],[3,1],[1,1]]\n",
        "b = [5.5,-3.5,1.5]\n",
        "\n",
        "# least-squares solver\n",
        "np.linalg.lstsq(A,b)[0]"
      ],
      "metadata": {
        "colab": {
          "base_uri": "https://localhost:8080/"
        },
        "id": "ZhFowHwswdSG",
        "outputId": "fcb7a324-4a9e-4a96-a32e-ca97970dba78"
      },
      "execution_count": 5,
      "outputs": [
        {
          "output_type": "stream",
          "name": "stderr",
          "text": [
            "<ipython-input-5-bab7f592dc8a>:6: FutureWarning: `rcond` parameter will change to the default of machine precision times ``max(M, N)`` where M and N are the input matrix dimensions.\n",
            "To use the future default and silence this warning we advise to pass `rcond=None`, to keep using the old, explicitly pass `rcond=-1`.\n",
            "  np.linalg.lstsq(A,b)[0]\n"
          ]
        },
        {
          "output_type": "execute_result",
          "data": {
            "text/plain": [
              "array([-2.5,  4. ])"
            ]
          },
          "metadata": {},
          "execution_count": 5
        }
      ]
    },
    {
      "cell_type": "code",
      "source": [
        "A = np.random.randn(4,3)\n",
        "Q,R = np.linalg.qr(A)"
      ],
      "metadata": {
        "id": "pYpwOH_Cweeo"
      },
      "execution_count": 6,
      "outputs": []
    },
    {
      "cell_type": "code",
      "source": [
        "# create the matrix\n",
        "m = 4\n",
        "n = 4\n",
        "A = np.random.randn(m,n)\n",
        "\n",
        "# initialize\n",
        "Q = np.zeros((m,n))\n",
        "\n",
        "\n",
        "# the GS algo\n",
        "for i in range(n):\n",
        "\n",
        "    # initialize\n",
        "    Q[:,i] = A[:,i]\n",
        "\n",
        "    # orthogonalize\n",
        "    a = A[:,i] # convenience\n",
        "    for j in range(i): # only to earlier cols\n",
        "        q = Q[:,j] # convenience\n",
        "        Q[:,i]=Q[:,i]-np.dot(a,q)/np.dot(q,q)*q\n",
        "\n",
        "    # normalize\n",
        "    Q[:,i] = Q[:,i] / np.linalg.norm(Q[:,i])\n",
        "\n",
        "\n",
        "# \"real\" QR decomposition for comparison\n",
        "Q2,R = np.linalg.qr(A)\n",
        "\n",
        "\n",
        "# note the possible sign differences.\n",
        "# seemingly non-zero columns will be 0 when adding\n",
        "Q-Q2"
      ],
      "metadata": {
        "colab": {
          "base_uri": "https://localhost:8080/"
        },
        "id": "y1NVh6nowfp3",
        "outputId": "31d8bc26-b592-4804-89d2-daa179e2824b"
      },
      "execution_count": 7,
      "outputs": [
        {
          "output_type": "execute_result",
          "data": {
            "text/plain": [
              "array([[-9.02056208e-17,  0.00000000e+00,  1.01210276e+00,\n",
              "        -1.50691444e+00],\n",
              "       [ 0.00000000e+00,  0.00000000e+00,  1.22283080e+00,\n",
              "         4.67506468e-01],\n",
              "       [ 5.55111512e-17, -1.11022302e-16,  1.39147212e-02,\n",
              "        -9.37824860e-01],\n",
              "       [-1.11022302e-16,  0.00000000e+00, -1.21660972e+00,\n",
              "        -7.94437610e-01]])"
            ]
          },
          "metadata": {},
          "execution_count": 7
        }
      ]
    }
  ]
}