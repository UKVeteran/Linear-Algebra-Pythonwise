{
  "nbformat": 4,
  "nbformat_minor": 0,
  "metadata": {
    "colab": {
      "provenance": []
    },
    "kernelspec": {
      "name": "python3",
      "display_name": "Python 3"
    },
    "language_info": {
      "name": "python"
    }
  },
  "cells": [
    {
      "cell_type": "code",
      "execution_count": 4,
      "metadata": {
        "id": "_DgOmco8y2nv"
      },
      "outputs": [],
      "source": [
        "import numpy as np"
      ]
    },
    {
      "cell_type": "code",
      "source": [
        "# create data\n",
        "n = 200\n",
        "X = np.random.randn(n,4)\n",
        "\n",
        "# mean-center\n",
        "X = X-np.mean(X,axis=0)\n",
        "\n",
        "# covariance\n",
        "covM = X.T@X / (n-1)\n",
        "\n",
        "# standard deviations matrix\n",
        "stdM = np.linalg.inv( np.diag(np.std(X,axis=0,ddof=1)) )\n",
        "\n",
        "# \"manual\" correlation matrix\n",
        "corM = stdM@ X.T@X @stdM / (n-1)\n",
        "\n",
        "# compare ours against numpy's\n",
        "print(np.round(covM-np.cov(X.T),3)), print(' ')\n",
        "print(np.round(corM-np.corrcoef(X.T),3))"
      ],
      "metadata": {
        "colab": {
          "base_uri": "https://localhost:8080/"
        },
        "id": "qd3TrOnXy6Fa",
        "outputId": "751e0fe2-556a-44fc-bad5-2db305e398e6"
      },
      "execution_count": 5,
      "outputs": [
        {
          "output_type": "stream",
          "name": "stdout",
          "text": [
            "[[ 0. -0.  0.  0.]\n",
            " [-0.  0. -0.  0.]\n",
            " [ 0. -0.  0.  0.]\n",
            " [ 0.  0.  0.  0.]]\n",
            " \n",
            "[[ 0. -0.  0. -0.]\n",
            " [-0.  0. -0.  0.]\n",
            " [ 0. -0. -0.  0.]\n",
            " [ 0.  0. -0. -0.]]\n"
          ]
        }
      ]
    }
  ]
}