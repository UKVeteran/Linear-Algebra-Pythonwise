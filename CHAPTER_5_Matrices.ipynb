{
  "nbformat": 4,
  "nbformat_minor": 0,
  "metadata": {
    "colab": {
      "provenance": []
    },
    "kernelspec": {
      "name": "python3",
      "display_name": "Python 3"
    },
    "language_info": {
      "name": "python"
    }
  },
  "cells": [
    {
      "cell_type": "code",
      "execution_count": 1,
      "metadata": {
        "id": "AK8zg7I9s6Vb"
      },
      "outputs": [],
      "source": [
        "import numpy as np\n",
        "from scipy.linalg import hankel,toeplitz"
      ]
    },
    {
      "cell_type": "code",
      "source": [
        "# a matrix\n",
        "A = np.random.randn(2,5)\n",
        "\n",
        "# two ways to transpose\n",
        "At1 = A.T\n",
        "At2 = np.transpose(A)"
      ],
      "metadata": {
        "id": "hXwz8_gVs-zi"
      },
      "execution_count": 2,
      "outputs": []
    },
    {
      "cell_type": "code",
      "source": [
        "# identity matrix\n",
        "I = np.eye(4)\n",
        "\n",
        "# ones matrix\n",
        "O = np.ones(4)\n",
        "\n",
        "# zeros matrix (note the tuple input)\n",
        "Z = np.zeros((4,4))"
      ],
      "metadata": {
        "id": "ki8wJG4fs_4H"
      },
      "execution_count": 3,
      "outputs": []
    },
    {
      "cell_type": "code",
      "source": [
        "# diagonal matrix\n",
        "D = np.diag([1,2,3,5])\n",
        "\n",
        "# diagonal elements\n",
        "R = np.random.randn(3,4)\n",
        "d = np.diag(R)"
      ],
      "metadata": {
        "id": "xI4OB7lrtAyR"
      },
      "execution_count": 4,
      "outputs": []
    },
    {
      "cell_type": "code",
      "source": [
        "# two matrices\n",
        "A = np.random.randn(3,5)\n",
        "B = np.random.randn(3,4)\n",
        "\n",
        "# augmenting\n",
        "AB = np.concatenate((A,B),axis=1)"
      ],
      "metadata": {
        "id": "BkQaQOP3tByW"
      },
      "execution_count": 5,
      "outputs": []
    },
    {
      "cell_type": "code",
      "source": [
        "# matrix\n",
        "A = np.random.randn(5,5)\n",
        "\n",
        "# extract the lower triangle\n",
        "L = np.tril(A)\n",
        "\n",
        "# extract the upper triangle\n",
        "U = np.triu(A)"
      ],
      "metadata": {
        "id": "RaytOwVKtDIV"
      },
      "execution_count": 6,
      "outputs": []
    },
    {
      "cell_type": "code",
      "source": [
        "# the vector\n",
        "t = [1,2,3,4]\n",
        "\n",
        "# the matrices (functions imported from scipy at top of script)\n",
        "T = toeplitz(t)\n",
        "H = hankel(t,r=[2,3,4,1])"
      ],
      "metadata": {
        "id": "JKmsbpAEtEVO"
      },
      "execution_count": 7,
      "outputs": []
    },
    {
      "cell_type": "code",
      "source": [
        "# lambda\n",
        "l = .01\n",
        "\n",
        "# I\n",
        "I = np.eye(4)\n",
        "\n",
        "# the shifted matrix\n",
        "A = np.random.randn(4,4)\n",
        "As = A + l*I"
      ],
      "metadata": {
        "id": "TVihnuzjtFZ5"
      },
      "execution_count": 8,
      "outputs": []
    },
    {
      "cell_type": "code",
      "source": [
        "A = np.random.randn(4,4)\n",
        "tr = np.trace(A)"
      ],
      "metadata": {
        "id": "WT4OhYRitGyL"
      },
      "execution_count": 9,
      "outputs": []
    },
    {
      "cell_type": "code",
      "source": [
        "# two matrices\n",
        "A = np.random.randn(4,2)\n",
        "B = np.random.randn(4,2)\n",
        "\n",
        "# initialize the output\n",
        "C = np.zeros((2,2))\n",
        "\n",
        "# loop over columns and compute dot products\n",
        "for coli in range(2):\n",
        "    for colj in range(2):\n",
        "        C[coli,colj] = np.dot(A[:,coli],B[:,colj])"
      ],
      "metadata": {
        "id": "-SUB6l5PtHyl"
      },
      "execution_count": 10,
      "outputs": []
    },
    {
      "cell_type": "code",
      "source": [
        "# a full matrix\n",
        "A = np.random.randn(4,4)\n",
        "\n",
        "# get its lower triangle\n",
        "Al = np.tril(A)\n",
        "\n",
        "# add it to its transpose\n",
        "S = Al + Al.T"
      ],
      "metadata": {
        "id": "b0b7ovZQtI9a"
      },
      "execution_count": 11,
      "outputs": []
    },
    {
      "cell_type": "code",
      "source": [
        "# initialize\n",
        "D = np.zeros((4,8))\n",
        "\n",
        "# loop over smaller dimension\n",
        "for d in range(min(D.shape)):\n",
        "    D[d,d] = d+1"
      ],
      "metadata": {
        "id": "gMrW1-FltJ1X"
      },
      "execution_count": 12,
      "outputs": []
    }
  ]
}