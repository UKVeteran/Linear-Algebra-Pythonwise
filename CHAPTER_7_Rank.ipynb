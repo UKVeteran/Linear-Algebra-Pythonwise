{
  "nbformat": 4,
  "nbformat_minor": 0,
  "metadata": {
    "colab": {
      "provenance": []
    },
    "kernelspec": {
      "name": "python3",
      "display_name": "Python 3"
    },
    "language_info": {
      "name": "python"
    }
  },
  "cells": [
    {
      "cell_type": "code",
      "execution_count": 1,
      "metadata": {
        "id": "p565VwqxuJvd"
      },
      "outputs": [],
      "source": [
        "import numpy as np"
      ]
    },
    {
      "cell_type": "code",
      "source": [
        "A = np.random.randn(3,6)\n",
        "r = np.linalg.matrix_rank(A)"
      ],
      "metadata": {
        "id": "kh5XKoPwuMdY"
      },
      "execution_count": 2,
      "outputs": []
    },
    {
      "cell_type": "code",
      "source": [
        "# scalar and matrix\n",
        "s = np.random.randn()\n",
        "M = np.random.randn(3,5)\n",
        "\n",
        "# their ranks\n",
        "r1 = np.linalg.matrix_rank(M)\n",
        "r2 = np.linalg.matrix_rank(s*M)\n",
        "\n",
        "# same or different?\n",
        "print(r1,r2)"
      ],
      "metadata": {
        "colab": {
          "base_uri": "https://localhost:8080/"
        },
        "id": "AO84xGa5uNcN",
        "outputId": "e3b0edf5-f916-4283-8f69-686c153516c4"
      },
      "execution_count": 3,
      "outputs": [
        {
          "output_type": "stream",
          "name": "stdout",
          "text": [
            "3 3\n"
          ]
        }
      ]
    },
    {
      "cell_type": "code",
      "source": [
        "# inspect the code for rank\n",
        "??np.linalg.matrix_rank"
      ],
      "metadata": {
        "id": "Qh8DS2kquOaY"
      },
      "execution_count": 4,
      "outputs": []
    },
    {
      "cell_type": "code",
      "source": [
        "# two random matrices\n",
        "A = np.random.randn(9,2)\n",
        "B = np.random.randn(2,16)\n",
        "\n",
        "# their product (assume max possible rank)\n",
        "C = A@B"
      ],
      "metadata": {
        "id": "QhpkJQPHuPyd"
      },
      "execution_count": 5,
      "outputs": []
    },
    {
      "cell_type": "code",
      "source": [
        "# zeros matrix\n",
        "Z = np.zeros((5,5))\n",
        "\n",
        "# tiny noise matrix\n",
        "N = np.random.randn(5,5)\n",
        "\n",
        "# add them\n",
        "ZN = Z + N*np.finfo(float).eps*1e-307\n",
        "\n",
        "# print the results\n",
        "print(np.linalg.matrix_rank(Z))\n",
        "print(np.linalg.matrix_rank(ZN))\n",
        "print(np.linalg.norm(ZN,'fro'))"
      ],
      "metadata": {
        "colab": {
          "base_uri": "https://localhost:8080/"
        },
        "id": "Xfb9o59KuRiT",
        "outputId": "73870e1f-821e-4d11-e8a3-edeab8c56c69"
      },
      "execution_count": 6,
      "outputs": [
        {
          "output_type": "stream",
          "name": "stdout",
          "text": [
            "0\n",
            "4\n",
            "0.0\n"
          ]
        }
      ]
    }
  ]
}