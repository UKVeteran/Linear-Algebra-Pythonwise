{
  "nbformat": 4,
  "nbformat_minor": 0,
  "metadata": {
    "colab": {
      "provenance": []
    },
    "kernelspec": {
      "name": "python3",
      "display_name": "Python 3"
    },
    "language_info": {
      "name": "python"
    }
  },
  "cells": [
    {
      "cell_type": "code",
      "execution_count": 1,
      "metadata": {
        "id": "clPEUQ7gvO1x"
      },
      "outputs": [],
      "source": [
        "import numpy as np\n",
        "from scipy.linalg import lu\n",
        "import sympy as sym"
      ]
    },
    {
      "cell_type": "code",
      "source": [
        "# create a matrix\n",
        "A = np.random.randn(4,3)\n",
        "\n",
        "# take its LU decomposition\n",
        "P,L,U = lu(A)"
      ],
      "metadata": {
        "id": "3woGGkrwvSyH"
      },
      "execution_count": 2,
      "outputs": []
    },
    {
      "cell_type": "code",
      "source": [
        "A = np.random.randn(2,4)\n",
        "\n",
        "# transform to sympy matrix for RREF\n",
        "sym.Matrix(A).rref()"
      ],
      "metadata": {
        "colab": {
          "base_uri": "https://localhost:8080/"
        },
        "id": "RhO7d7GrvTmY",
        "outputId": "ae3c1a9e-32a0-48cf-e2c1-b2e857e4869b"
      },
      "execution_count": 3,
      "outputs": [
        {
          "output_type": "execute_result",
          "data": {
            "text/plain": [
              "(Matrix([\n",
              " [1, 0, 3.91385179609938, 3.33284821428448],\n",
              " [0, 1, 2.16089648657449, 1.32247390956177]]),\n",
              " (0, 1))"
            ]
          },
          "metadata": {},
          "execution_count": 3
        }
      ]
    },
    {
      "cell_type": "code",
      "source": [
        "# matrix\n",
        "A = np.array([[2,0,-3],[3,1,4],[1,0,-1]])\n",
        "\n",
        "# constants\n",
        "x = [2,3,4]\n",
        "\n",
        "# solution\n",
        "b = A@x"
      ],
      "metadata": {
        "id": "nDIDXtVfvUt5"
      },
      "execution_count": 4,
      "outputs": []
    },
    {
      "cell_type": "code",
      "source": [
        "# one example...\n",
        "A = np.random.randn(3,6)\n",
        "sym.Matrix(A).rref()[0]"
      ],
      "metadata": {
        "colab": {
          "base_uri": "https://localhost:8080/",
          "height": 78
        },
        "id": "R8Xw6LA7vVdN",
        "outputId": "76410297-8ea5-4088-8f99-044ede73cc2c"
      },
      "execution_count": 5,
      "outputs": [
        {
          "output_type": "execute_result",
          "data": {
            "text/plain": [
              "Matrix([\n",
              "[1, 0, 0,  2.36121975983055, -0.565087208160064, -0.250518626879969],\n",
              "[0, 1, 0, -2.25741569964335, -0.528436367410335,  -1.02805992995897],\n",
              "[0, 0, 1, -3.59991285662923,  0.161291490643758,  0.673920061148665]])"
            ],
            "text/latex": "$\\displaystyle \\left[\\begin{matrix}1 & 0 & 0 & 2.36121975983055 & -0.565087208160064 & -0.250518626879969\\\\0 & 1 & 0 & -2.25741569964335 & -0.528436367410335 & -1.02805992995897\\\\0 & 0 & 1 & -3.59991285662923 & 0.161291490643758 & 0.673920061148665\\end{matrix}\\right]$"
          },
          "metadata": {},
          "execution_count": 5
        }
      ]
    }
  ]
}