{
  "nbformat": 4,
  "nbformat_minor": 0,
  "metadata": {
    "colab": {
      "provenance": []
    },
    "kernelspec": {
      "name": "python3",
      "display_name": "Python 3"
    },
    "language_info": {
      "name": "python"
    }
  },
  "cells": [
    {
      "cell_type": "code",
      "execution_count": 1,
      "metadata": {
        "id": "FY6HvjAGu7gC"
      },
      "outputs": [],
      "source": [
        "import numpy as np"
      ]
    },
    {
      "cell_type": "code",
      "source": [
        "# one way to create a complex number\n",
        "z = np.complex(3,4)\n",
        "\n",
        "# note the datatype input\n",
        "Z = np.zeros(2,dtype=complex)\n",
        "Z[0] = 3+4j"
      ],
      "metadata": {
        "colab": {
          "base_uri": "https://localhost:8080/"
        },
        "id": "DqNp303Iu_bo",
        "outputId": "1fc10b64-4168-4d6e-b1fd-e4105b622150"
      },
      "execution_count": 2,
      "outputs": [
        {
          "output_type": "stream",
          "name": "stderr",
          "text": [
            "<ipython-input-2-1052e20d11d5>:2: DeprecationWarning: `np.complex` is a deprecated alias for the builtin `complex`. To silence this warning, use `complex` by itself. Doing this will not modify any behavior and is safe. If you specifically wanted the numpy scalar type, use `np.complex128` here.\n",
            "Deprecated in NumPy 1.20; for more details and guidance: https://numpy.org/devdocs/release/1.20.0-notes.html#deprecations\n",
            "  z = np.complex(3,4)\n"
          ]
        }
      ]
    },
    {
      "cell_type": "code",
      "source": [
        "# real numbers for the matrix\n",
        "r = np.random.randint(-3,4,size=3) # real part\n",
        "i = np.random.randint(-3,4,size=3) # imag part\n",
        "\n",
        "# create a complex matrix\n",
        "Z = r + i*1j\n",
        "\n",
        "# print the matrix and its transpose\n",
        "print(Z)\n",
        "print(Z.conj())"
      ],
      "metadata": {
        "colab": {
          "base_uri": "https://localhost:8080/"
        },
        "id": "296cW1Y6vAV-",
        "outputId": "8e7c7466-3ca9-45ad-e6fd-37b61a126351"
      },
      "execution_count": 3,
      "outputs": [
        {
          "output_type": "stream",
          "name": "stdout",
          "text": [
            "[-1.-2.j  1.-3.j -3.+3.j]\n",
            "[-1.+2.j  1.+3.j -3.-3.j]\n"
          ]
        }
      ]
    },
    {
      "cell_type": "code",
      "source": [
        "v = [0,1j]\n",
        "\n",
        "# \"normal\" and hermitian dot product\n",
        "print(np.dot(v,v))\n",
        "print(np.vdot(v,v))"
      ],
      "metadata": {
        "colab": {
          "base_uri": "https://localhost:8080/"
        },
        "id": "dlTIrSSSvBLn",
        "outputId": "c64141c2-ef4d-4269-ade5-d1066768020b"
      },
      "execution_count": 4,
      "outputs": [
        {
          "output_type": "stream",
          "name": "stdout",
          "text": [
            "(-1+0j)\n",
            "(1+0j)\n"
          ]
        }
      ]
    },
    {
      "cell_type": "code",
      "source": [
        "U = .5*np.array([ [1+1j,1-1j],[1-1j,1+1j] ])\n",
        "\n",
        "# Hermitian\n",
        "print(U@np.matrix(U).H)\n",
        "\n",
        "# not Hermitian\n",
        "U@U.T"
      ],
      "metadata": {
        "colab": {
          "base_uri": "https://localhost:8080/"
        },
        "id": "YtvAYsEovB9M",
        "outputId": "7c5b8816-c6ae-4972-849a-6ae30aa06dae"
      },
      "execution_count": 5,
      "outputs": [
        {
          "output_type": "stream",
          "name": "stdout",
          "text": [
            "[[1.+0.j 0.+0.j]\n",
            " [0.+0.j 1.+0.j]]\n"
          ]
        },
        {
          "output_type": "execute_result",
          "data": {
            "text/plain": [
              "array([[0.+0.j, 1.+0.j],\n",
              "       [1.+0.j, 0.+0.j]])"
            ]
          },
          "metadata": {},
          "execution_count": 5
        }
      ]
    },
    {
      "cell_type": "code",
      "source": [
        "# create a complex matrix\n",
        "r = np.random.randn(3,3)\n",
        "i = np.random.randn(3,3)\n",
        "A = np.matrix( r + i*1j )\n",
        "\n",
        "# new matrices by adding and multiplying\n",
        "A1 = A+A.H\n",
        "A2 = A@A.H\n",
        "\n",
        "# test for Hermitian\n",
        "print(A1-A1.H)\n",
        "print(A2-A2.H)"
      ],
      "metadata": {
        "colab": {
          "base_uri": "https://localhost:8080/"
        },
        "id": "teZ0Y5JEvDHD",
        "outputId": "b11d85eb-4910-4f73-a146-997835032d65"
      },
      "execution_count": 6,
      "outputs": [
        {
          "output_type": "stream",
          "name": "stdout",
          "text": [
            "[[0.+0.j 0.+0.j 0.+0.j]\n",
            " [0.+0.j 0.+0.j 0.+0.j]\n",
            " [0.+0.j 0.+0.j 0.+0.j]]\n",
            "[[0.+0.j 0.+0.j 0.+0.j]\n",
            " [0.+0.j 0.+0.j 0.+0.j]\n",
            " [0.+0.j 0.+0.j 0.+0.j]]\n"
          ]
        }
      ]
    }
  ]
}