{
  "nbformat": 4,
  "nbformat_minor": 0,
  "metadata": {
    "colab": {
      "provenance": []
    },
    "kernelspec": {
      "name": "python3",
      "display_name": "Python 3"
    },
    "language_info": {
      "name": "python"
    }
  },
  "cells": [
    {
      "cell_type": "code",
      "execution_count": 1,
      "metadata": {
        "id": "8kEfR54PtbX4"
      },
      "outputs": [],
      "source": [
        "import numpy as np"
      ]
    },
    {
      "cell_type": "code",
      "source": [
        "# two matrices\n",
        "M1 = np.random.randn(4,3)\n",
        "M2 = np.random.randn(3,5)\n",
        "\n",
        "# and their product\n",
        "C = M1 @ M2"
      ],
      "metadata": {
        "id": "BdLYFuhftgiQ"
      },
      "execution_count": 10,
      "outputs": []
    },
    {
      "cell_type": "code",
      "source": [
        "A = np.random.randn(2,2)\n",
        "B = np.random.randn(2,2)\n",
        "\n",
        "# notice that C1 != C2\n",
        "C1 = A@B\n",
        "C2 = B@A"
      ],
      "metadata": {
        "id": "cdGbpDq-thzr"
      },
      "execution_count": 11,
      "outputs": []
    },
    {
      "cell_type": "code",
      "source": [
        "M1 = np.random.randn(4,3)\n",
        "M2 = np.random.randn(4,3)\n",
        "C = M1 * M2"
      ],
      "metadata": {
        "id": "m85lJAbVtkBZ"
      },
      "execution_count": 12,
      "outputs": []
    },
    {
      "cell_type": "code",
      "source": [
        "A = np.array([ [1,2,3],[4,5,6] ])\n",
        "A.flatten(order='F')"
      ],
      "metadata": {
        "colab": {
          "base_uri": "https://localhost:8080/"
        },
        "id": "1MD-BFREtxtW",
        "outputId": "e730225a-cdfb-4ea6-fbac-46571956ed45"
      },
      "execution_count": 13,
      "outputs": [
        {
          "output_type": "execute_result",
          "data": {
            "text/plain": [
              "array([1, 4, 2, 5, 3, 6])"
            ]
          },
          "metadata": {},
          "execution_count": 13
        }
      ]
    },
    {
      "cell_type": "code",
      "source": [
        "A = np.random.randn(4,3)\n",
        "B = np.random.randn(4,3)\n",
        "\n",
        "# the transpose-trace trick for the frobenius dot product\n",
        "f = np.trace(A.T@B)"
      ],
      "metadata": {
        "id": "abJA-GXMtysD"
      },
      "execution_count": 14,
      "outputs": []
    },
    {
      "cell_type": "code",
      "source": [
        "A = np.random.randn(4,3)\n",
        "np.linalg.norm(A,'fro')"
      ],
      "metadata": {
        "colab": {
          "base_uri": "https://localhost:8080/"
        },
        "id": "Unyc3j8MtzhZ",
        "outputId": "0193be9a-a7eb-42c0-b367-536da9a74e93"
      },
      "execution_count": 15,
      "outputs": [
        {
          "output_type": "execute_result",
          "data": {
            "text/plain": [
              "2.8701776941996684"
            ]
          },
          "metadata": {},
          "execution_count": 15
        }
      ]
    },
    {
      "cell_type": "code",
      "source": [
        "# two matrices\n",
        "A = np.random.randn(2,4)\n",
        "B = np.random.randn(4,3)\n",
        "\n",
        "# initialize product\n",
        "C1 = np.zeros((2,3))\n",
        "\n",
        "# sum over columns\n",
        "for i in range(4):\n",
        "    C1 += np.outer(A[:,i],B[i,:])\n",
        "\n",
        "# show equality\n",
        "C1 - A@B"
      ],
      "metadata": {
        "colab": {
          "base_uri": "https://localhost:8080/"
        },
        "id": "HL0i9K0at0VK",
        "outputId": "ef6b07df-1229-446e-94ec-0f3c4a22a9c1"
      },
      "execution_count": 16,
      "outputs": [
        {
          "output_type": "execute_result",
          "data": {
            "text/plain": [
              "array([[-1.11022302e-16,  0.00000000e+00,  0.00000000e+00],\n",
              "       [ 0.00000000e+00,  0.00000000e+00,  1.11022302e-16]])"
            ]
          },
          "metadata": {},
          "execution_count": 16
        }
      ]
    },
    {
      "cell_type": "code",
      "source": [
        "# a diagonal matrix and a full one\n",
        "D = np.diag(np.arange(1,5))\n",
        "A = np.random.randn(4,4)\n",
        "\n",
        "# two kinds of products\n",
        "C1 = D*A\n",
        "C2 = D@A\n",
        "\n",
        "# are they the same?\n",
        "print(np.diag(C1))\n",
        "print(np.diag(C2))"
      ],
      "metadata": {
        "colab": {
          "base_uri": "https://localhost:8080/"
        },
        "id": "o1qchjMTt1R_",
        "outputId": "0301d769-c7d4-4c22-d11c-fa6bb0e6cbc6"
      },
      "execution_count": 17,
      "outputs": [
        {
          "output_type": "stream",
          "name": "stdout",
          "text": [
            "[-1.80233274 -1.51450995  0.94507251 -0.6303924 ]\n",
            "[-1.80233274 -1.51450995  0.94507251 -0.6303924 ]\n"
          ]
        }
      ]
    },
    {
      "cell_type": "code",
      "source": [
        "# diagonal matrix\n",
        "A = np.diag(np.random.rand(3))\n",
        "\n",
        "# two symmetric matrices\n",
        "C1 = (A.T+A)/2\n",
        "C2 = A.T@A\n",
        "\n",
        "# are they the same?\n",
        "C1-np.sqrt(C2)"
      ],
      "metadata": {
        "colab": {
          "base_uri": "https://localhost:8080/"
        },
        "id": "pfeMaw6ft3xg",
        "outputId": "ca1ec83f-b8b5-4911-e4d1-486572cf67c9"
      },
      "execution_count": 18,
      "outputs": [
        {
          "output_type": "execute_result",
          "data": {
            "text/plain": [
              "array([[0., 0., 0.],\n",
              "       [0., 0., 0.],\n",
              "       [0., 0., 0.]])"
            ]
          },
          "metadata": {},
          "execution_count": 18
        }
      ]
    },
    {
      "cell_type": "code",
      "source": [
        "# a matrix and a vector (walk into a bar...)\n",
        "m = 5\n",
        "A = np.random.randn(m,m)\n",
        "v = np.random.randn(m)\n",
        "\n",
        "# the two sides of the equation\n",
        "LHS = np.linalg.norm(A@v)\n",
        "RHS = np.linalg.norm(A,ord='fro') * np.linalg.norm(v)\n",
        "\n",
        "# should always be positive\n",
        "RHS-LHS"
      ],
      "metadata": {
        "colab": {
          "base_uri": "https://localhost:8080/"
        },
        "id": "6oQiq2KKt4uj",
        "outputId": "f69f8e8a-1e69-4678-afc8-0413c0444c55"
      },
      "execution_count": 19,
      "outputs": [
        {
          "output_type": "execute_result",
          "data": {
            "text/plain": [
              "6.581707349830767"
            ]
          },
          "metadata": {},
          "execution_count": 19
        }
      ]
    }
  ]
}